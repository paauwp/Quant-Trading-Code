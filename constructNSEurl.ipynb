{
 "cells": [
  {
   "cell_type": "code",
   "execution_count": 13,
   "metadata": {},
   "outputs": [
    {
     "name": "stdout",
     "output_type": "stream",
     "text": [
      "https://www1.nseindia.com/content/historical/EQUITIES/2017/JUNE/cm19JUNE2017bhav.csv.zip\n",
      "Einde\n"
     ]
    }
   ],
   "source": [
    "def constructNSEurl(sectype,day,month,year):\n",
    "    # This function will expect the day to be an integer\n",
    "    # The year should be an integer and the month will be a string representing\n",
    "    # the first 3 letters of the month\n",
    "\n",
    "    # We need to convert the day to a string with 2 digits\n",
    "    if day<10:\n",
    "        day=\"0\"+str(day)\n",
    "    else:\n",
    "        day=str(day)\n",
    "\n",
    "    year = str(year)\n",
    "\n",
    "    # sectype can either be \"CM\" or \"FO\"\n",
    "    if sectype==\"CM\":\n",
    "        nseURL=\"https://www1.nseindia.com/content/historical/EQUITIES/\"+year+\"/\"+month+\"/\"+\"cm\"+day+month+year+\"bhav.csv.zip\"\n",
    "    elif sectype==\"FO\":\n",
    "        nseURL=\"https://www1.nseindia.com/content/historical/DERIVATIVES/\"+year+\"/\"+month+\"/\"+\"fo\"+day+month+year+\"bhav.csv.zip\"\n",
    "    else :\n",
    "        nseURL=\"Geen overeenkomstige URL gevonden\"\n",
    "\n",
    "    return nseURL\n",
    "\n",
    "#Roept de functie constructNSEurl aan en print hem.\n",
    "url=constructNSEurl('CM',19,'JUNE',2017)\n",
    "print(url)\n",
    "print('Einde')"
   ]
  },
  {
   "cell_type": "code",
   "execution_count": null,
   "metadata": {},
   "outputs": [],
   "source": []
  }
 ],
 "metadata": {
  "kernelspec": {
   "display_name": "Python 3",
   "language": "python",
   "name": "python3"
  },
  "language_info": {
   "codemirror_mode": {
    "name": "ipython",
    "version": 3
   },
   "file_extension": ".py",
   "mimetype": "text/x-python",
   "name": "python",
   "nbconvert_exporter": "python",
   "pygments_lexer": "ipython3",
   "version": "3.7.1"
  }
 },
 "nbformat": 4,
 "nbformat_minor": 2
}

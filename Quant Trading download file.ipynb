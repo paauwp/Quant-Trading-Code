{
 "cells": [
  {
   "cell_type": "code",
   "execution_count": 2,
   "metadata": {},
   "outputs": [],
   "source": [
    "def download(filePath,urlOfFile):\n",
    "    import urllib2\n",
    "\n",
    "    # We can just use a function from urllib2 to download a url, and save its contents to a\n",
    "    # local path\n",
    "    hdr = {'User-Agent':'Mozilla/5.0 (Macintosh; Intel Mac OS X 10_11_0) AppleWebKit/537.36 (KHTML, like Gecko) Chrome/49.0.2623.112 Safari/537.36',\n",
    "           'Accept':'text/html,application/xhtml+xml,application/xml;q=0.9,*/*;q=0.8',\n",
    "           'Accept-Charset':'ISO-8859-1,utf-8;q=0.7,*;q=0.3',\n",
    "           'Accept-Language':'en-US,en;q=0.8',\n",
    "           'Accept-Encoding':'none',\n",
    "           'Connection':'keep-alive'}\n",
    "\n",
    "\n",
    "    webRequest  = urllib2.Request(urlOfFile,headers=hdr)\n",
    "    #  We'll pass in a header attribute to the webRequest\n",
    "\n",
    "    # The rest of our code will be enclosed within a try:/except: pair\n",
    "    # This will act as a safety net in case we encounter some errors when\n",
    "    # accessing the web urls or working with the files\n",
    "\n",
    "    try:\n",
    "        page=urllib2.urlopen(webRequest)\n",
    "        # save the contents of the web request in a variable called 'content'\n",
    "        # These are literally the file form the URL (i.e. what you'd get if you\n",
    "        # downloaded the URL manually\n",
    "\n",
    "        content=page.read()\n",
    "\n",
    "        with open(filePath,\"wb\") as output:\n",
    "            output.write(bytearray(content))\n",
    "\n",
    "    # We are simply reading the bytes in content and writing them to our local file.\n",
    "    # This way we are agnostic to what kind of file we are trying to download ie zip files , csvs,\n",
    "    # excel etc\n",
    "\n",
    "    except urllib2.HTTPError as e:\n",
    "        # Let's print out the error , if any resulted\n",
    "        print (e.fp.read())\n"
   ]
  },
  {
   "cell_type": "code",
   "execution_count": null,
   "metadata": {},
   "outputs": [],
   "source": []
  }
 ],
 "metadata": {
  "kernelspec": {
   "display_name": "Python 3",
   "language": "python",
   "name": "python3"
  },
  "language_info": {
   "codemirror_mode": {
    "name": "ipython",
    "version": 3
   },
   "file_extension": ".py",
   "mimetype": "text/x-python",
   "name": "python",
   "nbconvert_exporter": "python",
   "pygments_lexer": "ipython3",
   "version": "3.7.1"
  }
 },
 "nbformat": 4,
 "nbformat_minor": 2
}
